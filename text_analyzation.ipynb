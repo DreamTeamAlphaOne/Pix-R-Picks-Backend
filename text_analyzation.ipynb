{
 "metadata": {
  "language_info": {
   "codemirror_mode": {
    "name": "ipython",
    "version": 3
   },
   "file_extension": ".py",
   "mimetype": "text/x-python",
   "name": "python",
   "nbconvert_exporter": "python",
   "pygments_lexer": "ipython3",
   "version": "3.9.7-final"
  },
  "orig_nbformat": 2,
  "kernelspec": {
   "name": "python3",
   "display_name": "Python 3.9.7 64-bit ('.venv': venv)",
   "metadata": {
    "interpreter": {
     "hash": "0a5b83203ec1e9d3a199260fb0cad08f4e10963301403f7e2667177f3d91f90a"
    }
   }
  }
 },
 "nbformat": 4,
 "nbformat_minor": 2,
 "cells": [
  {
   "cell_type": "code",
   "execution_count": 7,
   "metadata": {},
   "outputs": [
    {
     "output_type": "stream",
     "name": "stdout",
     "text": [
      "Collecting text2emotion\n",
      "  Downloading text2emotion-0.0.5-py3-none-any.whl (57 kB)\n",
      "\u001b[K     |████████████████████████████████| 57 kB 1.4 MB/s \n",
      "\u001b[?25hCollecting emoji>=0.6.0\n",
      "  Downloading emoji-1.6.1.tar.gz (170 kB)\n",
      "\u001b[K     |████████████████████████████████| 170 kB 1.8 MB/s \n",
      "\u001b[?25hCollecting nltk\n",
      "  Downloading nltk-3.6.5-py3-none-any.whl (1.5 MB)\n",
      "\u001b[K     |████████████████████████████████| 1.5 MB 2.2 MB/s \n",
      "\u001b[?25hCollecting joblib\n",
      "  Downloading joblib-1.1.0-py2.py3-none-any.whl (306 kB)\n",
      "\u001b[K     |████████████████████████████████| 306 kB 4.0 MB/s \n",
      "\u001b[?25hCollecting regex>=2021.8.3\n",
      "  Downloading regex-2021.11.2-cp39-cp39-macosx_10_9_x86_64.whl (288 kB)\n",
      "\u001b[K     |████████████████████████████████| 288 kB 4.8 MB/s \n",
      "\u001b[?25hCollecting tqdm\n",
      "  Downloading tqdm-4.62.3-py2.py3-none-any.whl (76 kB)\n",
      "\u001b[K     |████████████████████████████████| 76 kB 2.5 MB/s \n",
      "\u001b[?25hCollecting click\n",
      "  Downloading click-8.0.3-py3-none-any.whl (97 kB)\n",
      "\u001b[K     |████████████████████████████████| 97 kB 2.5 MB/s \n",
      "\u001b[?25hBuilding wheels for collected packages: emoji\n",
      "  Building wheel for emoji (setup.py) ... \u001b[?25ldone\n",
      "\u001b[?25h  Created wheel for emoji: filename=emoji-1.6.1-py3-none-any.whl size=169294 sha256=5e8d12c0ee3892a422e949b710bf00aee6da9922e020172af8589269e569eb8b\n",
      "  Stored in directory: /Users/Michael/Library/Caches/pip/wheels/9d/40/e8/bd3514a8af5708171f68cfcb2259a3c22a0578d33ade04a641\n",
      "Successfully built emoji\n",
      "Installing collected packages: tqdm, regex, joblib, click, nltk, emoji, text2emotion\n",
      "Successfully installed click-8.0.3 emoji-1.6.1 joblib-1.1.0 nltk-3.6.5 regex-2021.11.2 text2emotion-0.0.5 tqdm-4.62.3\n",
      "\u001b[33mWARNING: You are using pip version 21.0.1; however, version 21.3.1 is available.\n",
      "You should consider upgrading via the '/Users/Michael/codefellow/401/chess-board/.venv/bin/python -m pip install --upgrade pip' command.\u001b[0m\n",
      "Note: you may need to restart the kernel to use updated packages.\n"
     ]
    }
   ],
   "source": [
    "pip install text2emotion"
   ]
  },
  {
   "cell_type": "code",
   "execution_count": 8,
   "metadata": {},
   "outputs": [
    {
     "output_type": "stream",
     "name": "stderr",
     "text": [
      "[nltk_data] Downloading package stopwords to\n[nltk_data]     /Users/Michael/nltk_data...\n[nltk_data]   Package stopwords is already up-to-date!\n[nltk_data] Downloading package punkt to /Users/Michael/nltk_data...\n[nltk_data]   Package punkt is already up-to-date!\n[nltk_data] Downloading package wordnet to /Users/Michael/nltk_data...\n[nltk_data]   Package wordnet is already up-to-date!\n"
     ]
    }
   ],
   "source": [
    "import text2emotion as te"
   ]
  },
  {
   "cell_type": "code",
   "execution_count": 45,
   "metadata": {},
   "outputs": [],
   "source": [
    "# Opens Frozen.txt file and analyzes text\n",
    "frozen_text = open('movie_txts/frozen_file.txt', 'r')\n",
    "frozen_score = te.get_emotion(frozen_text.read())\n",
    "frozen_text.close()"
   ]
  },
  {
   "cell_type": "code",
   "execution_count": 54,
   "metadata": {},
   "outputs": [
    {
     "output_type": "execute_result",
     "data": {
      "text/plain": [
       "{'Happy': 0.11, 'Angry': 0.09, 'Surprise': 0.27, 'Sad': 0.23, 'Fear': 0.3}"
      ]
     },
     "metadata": {},
     "execution_count": 54
    }
   ],
   "source": [
    "frozen_score"
   ]
  },
  {
   "cell_type": "code",
   "execution_count": 52,
   "metadata": {},
   "outputs": [],
   "source": [
    "# Opens Coco.txt file and analyzes text\n",
    "coco_text = open('movie_txts/coco_file.txt', 'r')\n",
    "coco_score = te.get_emotion(coco_text.read())\n",
    "coco_text.close()"
   ]
  },
  {
   "cell_type": "code",
   "execution_count": 53,
   "metadata": {},
   "outputs": [
    {
     "output_type": "execute_result",
     "data": {
      "text/plain": [
       "{'Happy': 0.08, 'Angry': 0.08, 'Surprise': 0.28, 'Sad': 0.23, 'Fear': 0.32}"
      ]
     },
     "metadata": {},
     "execution_count": 53
    }
   ],
   "source": [
    "coco_score"
   ]
  },
  {
   "cell_type": "code",
   "execution_count": 55,
   "metadata": {},
   "outputs": [],
   "source": [
    "# Opens good_dino.txt file and analyzes text\n",
    "good_dino_text = open('movie_txts/good_dino_file.txt', 'r')\n",
    "good_dino_score = te.get_emotion(good_dino_text.read())\n",
    "good_dino_text.close()"
   ]
  },
  {
   "cell_type": "code",
   "execution_count": 56,
   "metadata": {},
   "outputs": [
    {
     "output_type": "execute_result",
     "data": {
      "text/plain": [
       "{'Happy': 0.12, 'Angry': 0.08, 'Surprise': 0.22, 'Sad': 0.2, 'Fear': 0.38}"
      ]
     },
     "metadata": {},
     "execution_count": 56
    }
   ],
   "source": [
    "good_dino_score"
   ]
  },
  {
   "cell_type": "code",
   "execution_count": 57,
   "metadata": {},
   "outputs": [],
   "source": [
    "# Opens train_dragon.txt file and analyzes text\n",
    "train_dragon_text = open('movie_txts/train_dragon_file.txt', 'r')\n",
    "train_dragon_score = te.get_emotion(train_dragon_text.read())\n",
    "train_dragon_text.close()"
   ]
  },
  {
   "cell_type": "code",
   "execution_count": 58,
   "metadata": {},
   "outputs": [
    {
     "output_type": "execute_result",
     "data": {
      "text/plain": [
       "{'Happy': 0.06, 'Angry': 0.13, 'Surprise': 0.21, 'Sad': 0.21, 'Fear': 0.39}"
      ]
     },
     "metadata": {},
     "execution_count": 58
    }
   ],
   "source": [
    "train_dragon_score"
   ]
  },
  {
   "cell_type": "code",
   "execution_count": 59,
   "metadata": {},
   "outputs": [],
   "source": [
    "# Opens train_dragon.txt file and analyzes text\n",
    "incredibles_text = open('movie_txts/incredibles_file.txt', 'r')\n",
    "incredibles_score = te.get_emotion(incredibles_text.read())\n",
    "incredibles_text.close()"
   ]
  },
  {
   "cell_type": "code",
   "execution_count": 60,
   "metadata": {},
   "outputs": [
    {
     "output_type": "execute_result",
     "data": {
      "text/plain": [
       "{'Happy': 0.1, 'Angry': 0.09, 'Surprise': 0.26, 'Sad': 0.23, 'Fear': 0.33}"
      ]
     },
     "metadata": {},
     "execution_count": 60
    }
   ],
   "source": [
    "incredibles_score"
   ]
  },
  {
   "cell_type": "code",
   "execution_count": 65,
   "metadata": {},
   "outputs": [],
   "source": [
    "#function to anaylize text version of scripts for emotion scores\n",
    "def analyze_emotions(movie_name):\n",
    "    movie_text = open(f\"movie_txts/{movie_name}_file.txt\", 'r')\n",
    "    movie_score = te.get_emotion(movie_text.read())\n",
    "    movie_text.close()\n",
    "    return movie_score"
   ]
  },
  {
   "cell_type": "code",
   "execution_count": 66,
   "metadata": {},
   "outputs": [
    {
     "output_type": "execute_result",
     "data": {
      "text/plain": [
       "{'Happy': 0.13, 'Angry': 0.06, 'Surprise': 0.21, 'Sad': 0.31, 'Fear': 0.29}"
      ]
     },
     "metadata": {},
     "execution_count": 66
    }
   ],
   "source": [
    "analyze_emotions('inside_out')"
   ]
  },
  {
   "cell_type": "code",
   "execution_count": 67,
   "metadata": {},
   "outputs": [
    {
     "output_type": "execute_result",
     "data": {
      "text/plain": [
       "{'Happy': 0.12, 'Angry': 0.1, 'Surprise': 0.28, 'Sad': 0.2, 'Fear': 0.3}"
      ]
     },
     "metadata": {},
     "execution_count": 67
    }
   ],
   "source": [
    "analyze_emotions('monsters_university')"
   ]
  },
  {
   "cell_type": "code",
   "execution_count": 68,
   "metadata": {},
   "outputs": [
    {
     "output_type": "execute_result",
     "data": {
      "text/plain": [
       "{'Happy': 0.1, 'Angry': 0.08, 'Surprise': 0.25, 'Sad': 0.25, 'Fear': 0.32}"
      ]
     },
     "metadata": {},
     "execution_count": 68
    }
   ],
   "source": [
    "analyze_emotions('ratatouille')"
   ]
  },
  {
   "cell_type": "code",
   "execution_count": 69,
   "metadata": {},
   "outputs": [
    {
     "output_type": "execute_result",
     "data": {
      "text/plain": [
       "{'Happy': 0.08, 'Angry': 0.14, 'Surprise': 0.2, 'Sad': 0.22, 'Fear': 0.35}"
      ]
     },
     "metadata": {},
     "execution_count": 69
    }
   ],
   "source": [
    "analyze_emotions('up')"
   ]
  },
  {
   "cell_type": "code",
   "execution_count": 70,
   "metadata": {},
   "outputs": [
    {
     "output_type": "execute_result",
     "data": {
      "text/plain": [
       "{'Happy': 0.07, 'Angry': 0.14, 'Surprise': 0.21, 'Sad': 0.19, 'Fear': 0.39}"
      ]
     },
     "metadata": {},
     "execution_count": 70
    }
   ],
   "source": [
    "analyze_emotions('wall-e')"
   ]
  },
  {
   "cell_type": "code",
   "execution_count": 71,
   "metadata": {},
   "outputs": [
    {
     "output_type": "execute_result",
     "data": {
      "text/plain": [
       "{'Happy': 0.11, 'Angry': 0.06, 'Surprise': 0.33, 'Sad': 0.2, 'Fear': 0.3}"
      ]
     },
     "metadata": {},
     "execution_count": 71
    }
   ],
   "source": [
    "analyze_emotions('soul')"
   ]
  },
  {
   "cell_type": "code",
   "execution_count": 72,
   "metadata": {},
   "outputs": [
    {
     "output_type": "execute_result",
     "data": {
      "text/plain": [
       "{'Happy': 0.12, 'Angry': 0.08, 'Surprise': 0.29, 'Sad': 0.2, 'Fear': 0.31}"
      ]
     },
     "metadata": {},
     "execution_count": 72
    }
   ],
   "source": [
    "analyze_emotions('monsters_inc')"
   ]
  },
  {
   "cell_type": "code",
   "execution_count": 73,
   "metadata": {},
   "outputs": [
    {
     "output_type": "execute_result",
     "data": {
      "text/plain": [
       "{'Happy': 0.11, 'Angry': 0.09, 'Surprise': 0.25, 'Sad': 0.25, 'Fear': 0.31}"
      ]
     },
     "metadata": {},
     "execution_count": 73
    }
   ],
   "source": [
    "analyze_emotions('finding_nemo')"
   ]
  },
  {
   "cell_type": "code",
   "execution_count": 74,
   "metadata": {},
   "outputs": [
    {
     "output_type": "execute_result",
     "data": {
      "text/plain": [
       "{'Happy': 0.1, 'Angry': 0.08, 'Surprise': 0.26, 'Sad': 0.22, 'Fear': 0.35}"
      ]
     },
     "metadata": {},
     "execution_count": 74
    }
   ],
   "source": [
    "analyze_emotions('cars_2')"
   ]
  },
  {
   "cell_type": "code",
   "execution_count": 75,
   "metadata": {},
   "outputs": [
    {
     "output_type": "execute_result",
     "data": {
      "text/plain": [
       "{'Happy': 0.12, 'Angry': 0.06, 'Surprise': 0.24, 'Sad': 0.26, 'Fear': 0.31}"
      ]
     },
     "metadata": {},
     "execution_count": 75
    }
   ],
   "source": [
    "analyze_emotions('cars_3')"
   ]
  },
  {
   "cell_type": "code",
   "execution_count": 76,
   "metadata": {},
   "outputs": [
    {
     "output_type": "execute_result",
     "data": {
      "text/plain": [
       "{'Happy': 0.14, 'Angry': 0.06, 'Surprise': 0.31, 'Sad': 0.25, 'Fear': 0.25}"
      ]
     },
     "metadata": {},
     "execution_count": 76
    }
   ],
   "source": [
    "analyze_emotions('cars')"
   ]
  },
  {
   "cell_type": "code",
   "execution_count": 77,
   "metadata": {},
   "outputs": [
    {
     "output_type": "execute_result",
     "data": {
      "text/plain": [
       "{'Happy': 0.09, 'Angry': 0.09, 'Surprise': 0.28, 'Sad': 0.18, 'Fear': 0.36}"
      ]
     },
     "metadata": {},
     "execution_count": 77
    }
   ],
   "source": [
    "analyze_emotions('toy_story_3')"
   ]
  },
  {
   "cell_type": "code",
   "execution_count": 78,
   "metadata": {},
   "outputs": [
    {
     "output_type": "execute_result",
     "data": {
      "text/plain": [
       "{'Happy': 0.1, 'Angry': 0.05, 'Surprise': 0.4, 'Sad': 0.22, 'Fear': 0.23}"
      ]
     },
     "metadata": {},
     "execution_count": 78
    }
   ],
   "source": [
    "analyze_emotions('toy_story_2')"
   ]
  },
  {
   "cell_type": "code",
   "execution_count": 79,
   "metadata": {},
   "outputs": [
    {
     "output_type": "execute_result",
     "data": {
      "text/plain": [
       "{'Happy': 0.11, 'Angry': 0.08, 'Surprise': 0.31, 'Sad': 0.21, 'Fear': 0.3}"
      ]
     },
     "metadata": {},
     "execution_count": 79
    }
   ],
   "source": [
    "analyze_emotions('toy_story_4')"
   ]
  },
  {
   "cell_type": "code",
   "execution_count": 80,
   "metadata": {},
   "outputs": [
    {
     "output_type": "execute_result",
     "data": {
      "text/plain": [
       "{'Happy': 0.07, 'Angry': 0.08, 'Surprise': 0.36, 'Sad': 0.17, 'Fear': 0.32}"
      ]
     },
     "metadata": {},
     "execution_count": 80
    }
   ],
   "source": [
    "analyze_emotions('toy_story')"
   ]
  },
  {
   "cell_type": "code",
   "execution_count": 81,
   "metadata": {},
   "outputs": [
    {
     "output_type": "execute_result",
     "data": {
      "text/plain": [
       "{'Happy': 0.09, 'Angry': 0.09, 'Surprise': 0.27, 'Sad': 0.24, 'Fear': 0.32}"
      ]
     },
     "metadata": {},
     "execution_count": 81
    }
   ],
   "source": [
    "analyze_emotions('finding_dory')"
   ]
  },
  {
   "cell_type": "code",
   "execution_count": 82,
   "metadata": {},
   "outputs": [
    {
     "output_type": "execute_result",
     "data": {
      "text/plain": [
       "{'Happy': 0.13, 'Angry': 0.07, 'Surprise': 0.28, 'Sad': 0.23, 'Fear': 0.29}"
      ]
     },
     "metadata": {},
     "execution_count": 82
    }
   ],
   "source": [
    "analyze_emotions('incredibles_2')"
   ]
  },
  {
   "cell_type": "code",
   "execution_count": 83,
   "metadata": {},
   "outputs": [
    {
     "output_type": "execute_result",
     "data": {
      "text/plain": [
       "{'Happy': 0.11, 'Angry': 0.1, 'Surprise': 0.18, 'Sad': 0.28, 'Fear': 0.33}"
      ]
     },
     "metadata": {},
     "execution_count": 83
    }
   ],
   "source": [
    "analyze_emotions('brave')"
   ]
  },
  {
   "cell_type": "code",
   "execution_count": 84,
   "metadata": {},
   "outputs": [
    {
     "output_type": "execute_result",
     "data": {
      "text/plain": [
       "{'Happy': 0.08, 'Angry': 0.08, 'Surprise': 0.32, 'Sad': 0.22, 'Fear': 0.29}"
      ]
     },
     "metadata": {},
     "execution_count": 84
    }
   ],
   "source": [
    "analyze_emotions('a_bugs_life')"
   ]
  },
  {
   "cell_type": "code",
   "execution_count": 85,
   "metadata": {},
   "outputs": [
    {
     "output_type": "execute_result",
     "data": {
      "text/plain": [
       "{'Happy': 0.09, 'Angry': 0.09, 'Surprise': 0.28, 'Sad': 0.2, 'Fear': 0.35}"
      ]
     },
     "metadata": {},
     "execution_count": 85
    }
   ],
   "source": [
    "analyze_emotions('onward')"
   ]
  },
  {
   "cell_type": "code",
   "execution_count": null,
   "metadata": {},
   "outputs": [],
   "source": []
  }
 ]
}