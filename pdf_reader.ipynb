{
 "metadata": {
  "language_info": {
   "codemirror_mode": {
    "name": "ipython",
    "version": 3
   },
   "file_extension": ".py",
   "mimetype": "text/x-python",
   "name": "python",
   "nbconvert_exporter": "python",
   "pygments_lexer": "ipython3",
   "version": "3.9.7-final"
  },
  "orig_nbformat": 2,
  "kernelspec": {
   "name": "python3",
   "display_name": "Python 3 (ipykernel)",
   "language": "python"
  }
 },
 "nbformat": 4,
 "nbformat_minor": 2,
 "cells": [
  {
   "cell_type": "code",
   "execution_count": 1,
   "metadata": {},
   "outputs": [
    {
     "output_type": "stream",
     "name": "stdout",
     "text": [
      "Requirement already satisfied: PyPDF2 in /Users/Michael/codefellow/401/chess-board/.venv/lib/python3.9/site-packages (1.26.0)\n",
      "\u001b[33mWARNING: You are using pip version 21.0.1; however, version 21.3.1 is available.\n",
      "You should consider upgrading via the '/Users/Michael/codefellow/401/chess-board/.venv/bin/python -m pip install --upgrade pip' command.\u001b[0m\n",
      "Note: you may need to restart the kernel to use updated packages.\n"
     ]
    }
   ],
   "source": [
    "pip install PyPDF2"
   ]
  },
  {
   "cell_type": "code",
   "execution_count": 2,
   "metadata": {},
   "outputs": [],
   "source": [
    "import PyPDF2 as preader"
   ]
  },
  {
   "cell_type": "code",
   "execution_count": 99,
   "metadata": {},
   "outputs": [],
   "source": [
    "# Takes Coco script pdf and turns into txt file\n",
    "coco_file = open('movie_pdfs/coco-2017.pdf', 'rb')\n",
    "coco_reader = preader.PdfFileReader(coco_file)\n",
    "\n",
    "for page in range(1,130):\n",
    "    page_obj = coco_reader.getPage(page)\n",
    "    text_string = page_obj.extractText()\n",
    "    coco_as_string = open('movie_txts/coco_file.txt', 'a')\n",
    "    coco_as_string.write(text_string)\n",
    "    coco_as_string.close()\n",
    "\n",
    "coco_file.close()"
   ]
  },
  {
   "cell_type": "code",
   "execution_count": 96,
   "metadata": {},
   "outputs": [
    {
     "output_type": "stream",
     "name": "stdout",
     "text": [
      "131\n"
     ]
    }
   ],
   "source": [
    "print(coco_reader.numPages)"
   ]
  },
  {
   "cell_type": "code",
   "execution_count": 34,
   "metadata": {},
   "outputs": [],
   "source": [
    "# Takes Frozen script pdf and turns into txt file\n",
    "pdf_file = open('movie_pdfs/frozen-2013.pdf', 'rb')\n",
    "pdf_reader = preader.PdfFileReader(pdf_file)\n",
    "\n",
    "for page in range(1,112):\n",
    "    page_obj = pdf_reader.getPage(page)\n",
    "    text_string = page_obj.extractText()\n",
    "    frozen_as_string = open('movie_txts/frozen_file.txt', 'a')\n",
    "    frozen_as_string.write(text_string)\n",
    "    frozen_as_string.close()\n",
    "\n",
    "pdf_file.close()"
   ]
  },
  {
   "cell_type": "code",
   "execution_count": 75,
   "metadata": {},
   "outputs": [
    {
     "output_type": "stream",
     "name": "stdout",
     "text": [
      "113\n"
     ]
    }
   ],
   "source": [
    "print(pdf_reader.numPages)"
   ]
  },
  {
   "cell_type": "code",
   "execution_count": 104,
   "metadata": {},
   "outputs": [],
   "source": [
    "# Takes good dinosaur script pdf and turns into txt file\n",
    "good_dino_file = open('movie_pdfs/the-good-dinosaur-2015.pdf', 'rb')\n",
    "good_dino_reader = preader.PdfFileReader(good_dino_file)\n",
    "\n",
    "for page in range(1,73):\n",
    "    page_obj = good_dino_reader.getPage(page)\n",
    "    text_string = page_obj.extractText()\n",
    "    good_dino_as_string = open('movie_txts/good_dino_file.txt', 'a')\n",
    "    good_dino_as_string.write(text_string)\n",
    "    good_dino_as_string.close()\n",
    "\n",
    "good_dino_file.close()"
   ]
  },
  {
   "cell_type": "code",
   "execution_count": 102,
   "metadata": {},
   "outputs": [
    {
     "output_type": "stream",
     "name": "stdout",
     "text": [
      "74\n"
     ]
    }
   ],
   "source": [
    "print(good_dino_reader.numPages)"
   ]
  },
  {
   "cell_type": "code",
   "execution_count": 107,
   "metadata": {},
   "outputs": [],
   "source": [
    "# Takes how to train your dragon script pdf and turns into txt file\n",
    "train_dragon_file = open('movie_pdfs/how-to-train-your-dragon-2010.pdf', 'rb')\n",
    "train_dragon_reader = preader.PdfFileReader(train_dragon_file)\n",
    "\n",
    "for page in range(1,108):\n",
    "    page_obj = train_dragon_reader.getPage(page)\n",
    "    text_string = page_obj.extractText()\n",
    "    train_dragon_as_string = open('movie_txts/train_dragon_file.txt', 'a')\n",
    "    train_dragon_as_string.write(text_string)\n",
    "    train_dragon_as_string.close()\n",
    "\n",
    "train_dragon_file.close()"
   ]
  },
  {
   "cell_type": "code",
   "execution_count": 106,
   "metadata": {},
   "outputs": [
    {
     "output_type": "stream",
     "name": "stdout",
     "text": [
      "109\n"
     ]
    }
   ],
   "source": [
    "print(train_dragon_reader.numPages)"
   ]
  },
  {
   "cell_type": "code",
   "execution_count": 118,
   "metadata": {},
   "outputs": [],
   "source": [
    "# Takes incredibles script pdf and turns into txt file\n",
    "incredibles_file = open('movie_pdfs/the-incredibles-2004.pdf', 'rb')\n",
    "incredibles_reader = preader.PdfFileReader(incredibles_file)\n",
    "\n",
    "for page in range(2,129):\n",
    "    page_obj = incredibles_reader.getPage(page)\n",
    "    text_string = page_obj.extractText()\n",
    "    incredibles_as_string = open('movie_txts/incredibles_file.txt', 'a')\n",
    "    incredibles_as_string.write(text_string)\n",
    "    incredibles_as_string.close()\n",
    "\n",
    "incredibles_file.close()"
   ]
  },
  {
   "cell_type": "code",
   "execution_count": 114,
   "metadata": {},
   "outputs": [
    {
     "output_type": "stream",
     "name": "stdout",
     "text": [
      "130\n"
     ]
    }
   ],
   "source": [
    "print(incredibles_reader.numPages)"
   ]
  },
  {
   "cell_type": "code",
   "execution_count": 4,
   "metadata": {},
   "outputs": [],
   "source": [
    "#Function to extract text from pdf scripts\n",
    "def extract_script(pdf_file, movie_name, p_start, p_end):\n",
    "    m_file = open(pdf_file,'rb')\n",
    "    reader = preader.PdfFileReader(m_file)\n",
    "\n",
    "    for page in range(p_start,p_end):\n",
    "        page_obj = reader.getPage(page)\n",
    "        text_string = page_obj.extractText()\n",
    "        movie_as_string = open(f\"movie_txts/{movie_name}_file.txt\", 'a')\n",
    "        movie_as_string.write(text_string)\n",
    "        movie_as_string.close()\n",
    "    \n",
    "    m_file.close()"
   ]
  },
  {
   "cell_type": "code",
   "execution_count": 121,
   "metadata": {},
   "outputs": [],
   "source": [
    "extract_script('movie_pdfs/inside-out.pdf', 'inside_out', 1, 129)"
   ]
  },
  {
   "cell_type": "code",
   "execution_count": 122,
   "metadata": {},
   "outputs": [],
   "source": [
    "extract_script('movie_pdfs/monsters-university.pdf', 'monsters_university',1,153)"
   ]
  },
  {
   "cell_type": "code",
   "execution_count": 123,
   "metadata": {},
   "outputs": [],
   "source": [
    "extract_script('movie_pdfs/ratatouille.pdf', 'ratatouille', 2, 117)"
   ]
  },
  {
   "cell_type": "code",
   "execution_count": 124,
   "metadata": {},
   "outputs": [],
   "source": [
    "extract_script('movie_pdfs/up.pdf', 'up', 1, 100)"
   ]
  },
  {
   "cell_type": "code",
   "execution_count": 125,
   "metadata": {},
   "outputs": [],
   "source": [
    "extract_script('movie_pdfs/wall-e.pdf', 'wall-e', 1, 94)"
   ]
  },
  {
   "cell_type": "code",
   "execution_count": 126,
   "metadata": {},
   "outputs": [],
   "source": [
    "extract_script('movie_pdfs/soul.pdf', 'soul', 1, 126)"
   ]
  },
  {
   "cell_type": "code",
   "execution_count": 127,
   "metadata": {},
   "outputs": [],
   "source": [
    "extract_script('movie_pdfs/monsters-inc.pdf', 'monsters_inc', 1, 122)"
   ]
  },
  {
   "cell_type": "code",
   "execution_count": 128,
   "metadata": {},
   "outputs": [],
   "source": [
    "extract_script('movie_pdfs/finding-nemo.pdf', 'finding_nemo', 1, 141)"
   ]
  },
  {
   "cell_type": "code",
   "execution_count": 129,
   "metadata": {},
   "outputs": [],
   "source": [
    "extract_script('movie_pdfs/cars_2.pdf', 'cars_2', 1, 171)"
   ]
  },
  {
   "cell_type": "code",
   "execution_count": 130,
   "metadata": {},
   "outputs": [],
   "source": [
    "extract_script('movie_pdfs/cars_3.pdf', 'cars_3', 1, 48)"
   ]
  },
  {
   "cell_type": "code",
   "execution_count": 5,
   "metadata": {},
   "outputs": [],
   "source": [
    "extract_script('movie_pdfs/cars.pdf', 'cars', 1, 63)"
   ]
  },
  {
   "cell_type": "code",
   "execution_count": 7,
   "metadata": {},
   "outputs": [],
   "source": [
    "extract_script('movie_pdfs/toy_story_2.pdf', 'toy_story_2', 1, 50)"
   ]
  },
  {
   "cell_type": "code",
   "execution_count": null,
   "metadata": {},
   "outputs": [],
   "source": [
    "extract_script('movie_pdfs/toy-story-3.pdf', 'toy_story_3', 1, 50)"
   ]
  },
  {
   "cell_type": "code",
   "execution_count": 9,
   "metadata": {},
   "outputs": [],
   "source": [
    "extract_script('movie_pdfs/toy-story-4.pdf', 'toy_story_4', 1, 122)"
   ]
  },
  {
   "cell_type": "code",
   "execution_count": 10,
   "metadata": {},
   "outputs": [],
   "source": [
    "extract_script('movie_pdfs/toy_story.pdf', 'toy_story', 1, 102)"
   ]
  },
  {
   "cell_type": "code",
   "execution_count": 11,
   "metadata": {},
   "outputs": [],
   "source": [
    "extract_script('movie_pdfs/finding_dory.pdf', 'finding_dory', 1, 75)"
   ]
  },
  {
   "cell_type": "code",
   "execution_count": 12,
   "metadata": {},
   "outputs": [],
   "source": [
    "extract_script('movie_pdfs/incredibles_2.pdf', 'incredibles_2', 1, 55)"
   ]
  },
  {
   "cell_type": "code",
   "execution_count": 13,
   "metadata": {},
   "outputs": [],
   "source": [
    "extract_script('movie_pdfs/brave.pdf', 'brave', 1, 20)"
   ]
  },
  {
   "cell_type": "code",
   "execution_count": 14,
   "metadata": {},
   "outputs": [],
   "source": [
    "extract_script('movie_pdfs/a_bugs_life.pdf', 'a_bugs_life', 1, 58)"
   ]
  },
  {
   "cell_type": "code",
   "execution_count": 17,
   "metadata": {},
   "outputs": [],
   "source": [
    "extract_script('movie_pdfs/onward.pdf', 'onward', 1, 127)"
   ]
  },
  {
   "cell_type": "code",
   "execution_count": null,
   "metadata": {},
   "outputs": [],
   "source": []
  }
 ]
}